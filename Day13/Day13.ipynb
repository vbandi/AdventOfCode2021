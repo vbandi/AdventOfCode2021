{
 "cells": [
  {
   "cell_type": "markdown",
   "metadata": {},
   "source": [
    "```\n",
    "--- Day 13: Transparent Origami ---\n",
    "\n",
    "You reach another volcanically active part of the cave. It would be nice if you could do some kind of thermal imaging so you could tell ahead of time which caves are too hot to safely enter.\n",
    "\n",
    "Fortunately, the submarine seems to be equipped with a thermal camera! When you activate it, you are greeted with:\n",
    "\n",
    "Congratulations on your purchase! To activate this infrared thermal imaging\n",
    "camera system, please enter the code found on page 1 of the manual.\n",
    "Apparently, the Elves have never used this feature. To your surprise, you manage to find the manual; as you go to open it, page 1 falls out. It's a large sheet of transparent paper! The transparent paper is marked with random dots and includes instructions on how to fold it up (your puzzle input). For example:\n",
    "\n",
    "6,10\n",
    "0,14\n",
    "9,10\n",
    "0,3\n",
    "10,4\n",
    "4,11\n",
    "6,0\n",
    "6,12\n",
    "4,1\n",
    "0,13\n",
    "10,12\n",
    "3,4\n",
    "3,0\n",
    "8,4\n",
    "1,10\n",
    "2,14\n",
    "8,10\n",
    "9,0\n",
    "\n",
    "fold along y=7\n",
    "fold along x=5\n",
    "The first section is a list of dots on the transparent paper. 0,0 represents the top-left coordinate. The first value, x, increases to the right. The second value, y, increases downward. So, the coordinate 3,0 is to the right of 0,0, and the coordinate 0,7 is below 0,0. The coordinates in this example form the following pattern, where # is a dot on the paper and . is an empty, unmarked position:\n",
    "\n",
    "...#..#..#.\n",
    "....#......\n",
    "...........\n",
    "#..........\n",
    "...#....#.#\n",
    "...........\n",
    "...........\n",
    "...........\n",
    "...........\n",
    "...........\n",
    ".#....#.##.\n",
    "....#......\n",
    "......#...#\n",
    "#..........\n",
    "#.#........\n",
    "Then, there is a list of fold instructions. Each instruction indicates a line on the transparent paper and wants you to fold the paper up (for horizontal y=... lines) or left (for vertical x=... lines). In this example, the first fold instruction is fold along y=7, which designates the line formed by all of the positions where y is 7 (marked here with -):\n",
    "\n",
    "...#..#..#.\n",
    "....#......\n",
    "...........\n",
    "#..........\n",
    "...#....#.#\n",
    "...........\n",
    "...........\n",
    "-----------\n",
    "...........\n",
    "...........\n",
    ".#....#.##.\n",
    "....#......\n",
    "......#...#\n",
    "#..........\n",
    "#.#........\n",
    "Because this is a horizontal line, fold the bottom half up. Some of the dots might end up overlapping after the fold is complete, but dots will never appear exactly on a fold line. The result of doing this fold looks like this:\n",
    "\n",
    "#.##..#..#.\n",
    "#...#......\n",
    "......#...#\n",
    "#...#......\n",
    ".#.#..#.###\n",
    "...........\n",
    "...........\n",
    "Now, only 17 dots are visible.\n",
    "\n",
    "Notice, for example, the two dots in the bottom left corner before the transparent paper is folded; after the fold is complete, those dots appear in the top left corner (at 0,0 and 0,1). Because the paper is transparent, the dot just below them in the result (at 0,3) remains visible, as it can be seen through the transparent paper.\n",
    "\n",
    "Also notice that some dots can end up overlapping; in this case, the dots merge together and become a single dot.\n",
    "\n",
    "The second fold instruction is fold along x=5, which indicates this line:\n",
    "\n",
    "#.##.|#..#.\n",
    "#...#|.....\n",
    ".....|#...#\n",
    "#...#|.....\n",
    ".#.#.|#.###\n",
    ".....|.....\n",
    ".....|.....\n",
    "Because this is a vertical line, fold left:\n",
    "\n",
    "#####\n",
    "#...#\n",
    "#...#\n",
    "#...#\n",
    "#####\n",
    ".....\n",
    ".....\n",
    "The instructions made a square!\n",
    "\n",
    "The transparent paper is pretty big, so for now, focus on just completing the first fold. After the first fold in the example above, 17 dots are visible - dots that end up overlapping after the fold is completed count as a single dot.\n",
    "\n",
    "How many dots are visible after completing just the first fold instruction on your transparent paper?\n",
    "```"
   ]
  },
  {
   "cell_type": "code",
   "execution_count": null,
   "metadata": {
    "dotnet_interactive": {
     "language": "csharp"
    }
   },
   "outputs": [],
   "source": [
    "var example = @\"6,10\n",
    "6,10\n",
    "0,14\n",
    "9,10\n",
    "0,3\n",
    "10,4\n",
    "4,11\n",
    "6,0\n",
    "6,12\n",
    "4,1\n",
    "0,13\n",
    "10,12\n",
    "3,4\n",
    "3,0\n",
    "8,4\n",
    "1,10\n",
    "2,14\n",
    "8,10\n",
    "9,0\n",
    "\n",
    "fold along y=7\n",
    "fold along x=5\";\n",
    "\n",
    "(bool[,] grid, List<(bool horizontal, int index)>) ParseInput(string txt)\n",
    "{\n",
    "    var lines = txt.Split(new[] { '\\r', '\\n' }, StringSplitOptions.RemoveEmptyEntries);\n",
    "    var coords = new List<(int x, int y)>();\n",
    "    var foldInstructions = new List<(bool horizontal, int index)>();\n",
    "\n",
    "    foreach (var line in lines)\n",
    "    {\n",
    "        var parts = line.Split(',');\n",
    "\n",
    "        if (parts.Length == 2)\n",
    "            coords.Add((int.Parse(parts[0]), int.Parse(parts[1])));\n",
    "        else\n",
    "        {\n",
    "            parts = line.Split(new[] { ' ', '=' }, StringSplitOptions.RemoveEmptyEntries);\n",
    "            foldInstructions.Add((parts[2] == \"y\", int.Parse(parts[3])));\n",
    "        }\n",
    "    }\n",
    "\n",
    "    Console.WriteLine($\"{coords.Count} coords\");\n",
    "\n",
    "    var grid = new bool[coords.Max(c => c.x) + 1, coords.Max(c => c.y) + 1];\n",
    "    \n",
    "    foreach (var coord in coords)\n",
    "        grid[coord.x, coord.y] = true;\n",
    "\n",
    "    return (grid, foldInstructions);\n",
    "}\n"
   ]
  },
  {
   "cell_type": "code",
   "execution_count": null,
   "metadata": {
    "dotnet_interactive": {
     "language": "csharp"
    }
   },
   "outputs": [],
   "source": [
    "\n",
    "bool[,] Fold(bool horizontal, int index, bool[,] grid)\n",
    "{\n",
    "    \n",
    "    if (horizontal)\n",
    "    {\n",
    "        var result = new bool[grid.GetLength(0), grid.GetLength(1) - index - 1];\n",
    "\n",
    "        var foldSize = grid.GetLength(1) - index;\n",
    "        for (int i = 1; i < foldSize; i++)\n",
    "            for (int x = 0; x < grid.GetLength(0); x++)\n",
    "                result[x, index - i] = grid[x, index - i] || grid[x, index + i];\n",
    "\n",
    "        return result;\n",
    "    }\n",
    "    else\n",
    "    {\n",
    "        var result = new bool[grid.GetLength(0) - index - 1, grid.GetLength(1)];\n",
    "\n",
    "        var foldSize = grid.GetLength(0) - index;\n",
    "        for (int i = 1; i < foldSize; i++)\n",
    "            for (int y = 0; y < grid.GetLength(1); y++)\n",
    "                result[index - i, y] = grid[index - i, y] || grid[index + i, y];\n",
    "\n",
    "        return result;\n",
    "    }\n",
    "}\n"
   ]
  },
  {
   "cell_type": "code",
   "execution_count": null,
   "metadata": {
    "dotnet_interactive": {
     "language": "csharp"
    }
   },
   "outputs": [],
   "source": [
    "public void DumpGrid(bool[,] grid, bool verbose = true)\n",
    "{\n",
    "    Console.WriteLine(\"Grid size: \" + grid.GetLength(0) + \"x\" + grid.GetLength(1));\n",
    "    \n",
    "    if (verbose)\n",
    "    {\n",
    "        for (int i = 0; i < grid.GetLength(1); i++)\n",
    "        {\n",
    "            for (int j = 0; j < grid.GetLength(0); j++)\n",
    "                Console.Write(grid[j, i] ? \"##\" : \"  \");\n",
    "\n",
    "            Console.WriteLine();\n",
    "        }\n",
    "    }\n",
    "\n",
    "    Console.WriteLine($\"Visible dots: {grid.Cast<bool>().Count(b => b)}\\n\");\n",
    "}"
   ]
  },
  {
   "cell_type": "code",
   "execution_count": null,
   "metadata": {
    "dotnet_interactive": {
     "language": "csharp"
    }
   },
   "outputs": [
    {
     "name": "stdout",
     "output_type": "stream",
     "text": [
      "19 coords\r\n"
     ]
    }
   ],
   "source": [
    "(var grid, var foldInstructions) = ParseInput(example);\n",
    "//DumpGrid(grid);"
   ]
  },
  {
   "cell_type": "markdown",
   "metadata": {},
   "source": [
    "# Testing example 1"
   ]
  },
  {
   "cell_type": "code",
   "execution_count": null,
   "metadata": {
    "dotnet_interactive": {
     "language": "csharp"
    }
   },
   "outputs": [
    {
     "name": "stdout",
     "output_type": "stream",
     "text": [
      "Grid size: 11x7\r\n",
      "##  ####    ##    ##  \r\n",
      "##      ##            \r\n",
      "            ##      ##\r\n",
      "##      ##            \r\n",
      "  ##  ##    ##  ######\r\n",
      "                      \r\n",
      "                      \r\n",
      "Visible dots: 17\n",
      "\r\n",
      "Grid size: 5x7\r\n",
      "##########\r\n",
      "##      ##\r\n",
      "##      ##\r\n",
      "##      ##\r\n",
      "##########\r\n",
      "          \r\n",
      "          \r\n",
      "Visible dots: 16\n",
      "\r\n"
     ]
    }
   ],
   "source": [
    "var afterFold1 = Fold(foldInstructions[0].horizontal, foldInstructions[0].index, grid);\n",
    "DumpGrid(afterFold1);\n",
    "\n",
    "var afterFold2 = Fold(foldInstructions[1].horizontal, foldInstructions[1].index, afterFold1);\n",
    "DumpGrid(afterFold2);"
   ]
  },
  {
   "cell_type": "markdown",
   "metadata": {},
   "source": [
    "# Actual Input"
   ]
  },
  {
   "cell_type": "code",
   "execution_count": null,
   "metadata": {
    "dotnet_interactive": {
     "language": "csharp"
    }
   },
   "outputs": [
    {
     "name": "stdout",
     "output_type": "stream",
     "text": [
      "881 coords\r\n",
      "Grid size: 655x895\r\n",
      "Visible dots: 747\n",
      "\r\n"
     ]
    }
   ],
   "source": [
    "var input = System.IO.File.ReadAllText(\"input.txt\");\n",
    "(grid, foldInstructions) = ParseInput(input);\n",
    "\n",
    "afterFold1 = Fold(foldInstructions[0].horizontal, foldInstructions[0].index, grid);\n",
    "DumpGrid(afterFold1, false);"
   ]
  },
  {
   "cell_type": "markdown",
   "metadata": {},
   "source": [
    "# Part 2\n",
    "Finish folding the transparent paper according to the instructions. The manual says the code is always eight capital letters.\n",
    "\n",
    "What code do you use to activate the infrared thermal imaging camera system?"
   ]
  },
  {
   "cell_type": "code",
   "execution_count": null,
   "metadata": {
    "dotnet_interactive": {
     "language": "csharp"
    }
   },
   "outputs": [
    {
     "name": "stdout",
     "output_type": "stream",
     "text": [
      "Grid size: 40x6\r\n",
      "  ####    ######    ##    ##  ########  ######      ####    ##    ##  ##    ##  \r\n",
      "##    ##  ##    ##  ##    ##        ##  ##    ##  ##    ##  ##    ##  ##    ##  \r\n",
      "##    ##  ##    ##  ########      ##    ##    ##  ##        ##    ##  ########  \r\n",
      "########  ######    ##    ##    ##      ######    ##        ##    ##  ##    ##  \r\n",
      "##    ##  ##  ##    ##    ##  ##        ##        ##    ##  ##    ##  ##    ##  \r\n",
      "##    ##  ##    ##  ##    ##  ########  ##          ####      ####    ##    ##  \r\n",
      "Visible dots: 102\n",
      "\r\n"
     ]
    }
   ],
   "source": [
    "bool[,] afterFold = grid;\n",
    "\n",
    "foreach (var foldInstruction in foldInstructions)\n",
    "{\n",
    "    afterFold = Fold(foldInstruction.horizontal, foldInstruction.index, afterFold);\n",
    "}\n",
    "\n",
    "DumpGrid(afterFold, true);"
   ]
  }
 ],
 "metadata": {
  "kernelspec": {
   "display_name": ".NET (C#)",
   "language": "C#",
   "name": ".net-csharp"
  },
  "language_info": {
   "name": "C#"
  }
 },
 "nbformat": 4,
 "nbformat_minor": 2
}
