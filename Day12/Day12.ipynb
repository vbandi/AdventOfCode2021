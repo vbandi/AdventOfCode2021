{
 "cells": [
  {
   "cell_type": "markdown",
   "metadata": {},
   "source": [
    "--- Day 12: Passage Pathing ---\n",
    "With your submarine's subterranean subsystems subsisting suboptimally, the only way you're getting out of this cave anytime soon is by finding a path yourself. Not just a path - the only way to know if you've found the best path is to find all of them.\n",
    "\n",
    "Fortunately, the sensors are still mostly working, and so you build a rough map of the remaining caves (your puzzle input). For example:\n",
    "\n",
    "start-A\n",
    "start-b\n",
    "A-c\n",
    "A-b\n",
    "b-d\n",
    "A-end\n",
    "b-end\n",
    "This is a list of how all of the caves are connected. You start in the cave named start, and your destination is the cave named end. An entry like b-d means that cave b is connected to cave d - that is, you can move between them.\n",
    "\n",
    "So, the above cave system looks roughly like this:\n",
    "\n",
    "    start\n",
    "    /   \\\n",
    "c--A-----b--d\n",
    "    \\   /\n",
    "     end\n",
    "Your goal is to find the number of distinct paths that start at start, end at end, and don't visit small caves more than once. There are two types of caves: big caves (written in uppercase, like A) and small caves (written in lowercase, like b). It would be a waste of time to visit any small cave more than once, but big caves are large enough that it might be worth visiting them multiple times. So, all paths you find should visit small caves at most once, and can visit big caves any number of times.\n",
    "\n",
    "Given these rules, there are 10 paths through this example cave system:\n",
    "\n",
    "start,A,b,A,c,A,end\n",
    "start,A,b,A,end\n",
    "start,A,b,end\n",
    "start,A,c,A,b,A,end\n",
    "start,A,c,A,b,end\n",
    "start,A,c,A,end\n",
    "start,A,end\n",
    "start,b,A,c,A,end\n",
    "start,b,A,end\n",
    "start,b,end\n",
    "(Each line in the above list corresponds to a single path; the caves visited by that path are listed in the order they are visited and separated by commas.)\n",
    "\n",
    "Note that in this cave system, cave d is never visited by any path: to do so, cave b would need to be visited twice (once on the way to cave d and a second time when returning from cave d), and since cave b is small, this is not allowed.\n",
    "\n",
    "Here is a slightly larger example:\n",
    "\n",
    "dc-end\n",
    "HN-start\n",
    "start-kj\n",
    "dc-start\n",
    "dc-HN\n",
    "LN-dc\n",
    "HN-end\n",
    "kj-sa\n",
    "kj-HN\n",
    "kj-dc\n",
    "The 19 paths through it are as follows:\n",
    "\n",
    "start,HN,dc,HN,end\n",
    "start,HN,dc,HN,kj,HN,end\n",
    "start,HN,dc,end\n",
    "start,HN,dc,kj,HN,end\n",
    "start,HN,end\n",
    "start,HN,kj,HN,dc,HN,end\n",
    "start,HN,kj,HN,dc,end\n",
    "start,HN,kj,HN,end\n",
    "start,HN,kj,dc,HN,end\n",
    "start,HN,kj,dc,end\n",
    "start,dc,HN,end\n",
    "start,dc,HN,kj,HN,end\n",
    "start,dc,end\n",
    "start,dc,kj,HN,end\n",
    "start,kj,HN,dc,HN,end\n",
    "start,kj,HN,dc,end\n",
    "start,kj,HN,end\n",
    "start,kj,dc,HN,end\n",
    "start,kj,dc,end\n",
    "Finally, this even larger example has 226 paths through it:\n",
    "\n",
    "fs-end\n",
    "he-DX\n",
    "fs-he\n",
    "start-DX\n",
    "pj-DX\n",
    "end-zg\n",
    "zg-sl\n",
    "zg-pj\n",
    "pj-he\n",
    "RW-he\n",
    "fs-DX\n",
    "pj-RW\n",
    "zg-RW\n",
    "start-pj\n",
    "he-WI\n",
    "zg-he\n",
    "pj-fs\n",
    "start-RW\n",
    "How many paths through this cave system are there that visit small caves at most once?"
   ]
  },
  {
   "cell_type": "code",
   "execution_count": null,
   "metadata": {
    "dotnet_interactive": {
     "language": "csharp"
    }
   },
   "outputs": [],
   "source": [
    "var example1 = @\"start-A\n",
    "start-b\n",
    "A-c\n",
    "A-b\n",
    "b-d\n",
    "A-end\n",
    "b-end\";"
   ]
  },
  {
   "cell_type": "code",
   "execution_count": null,
   "metadata": {
    "dotnet_interactive": {
     "language": "csharp"
    }
   },
   "outputs": [
    {
     "name": "stdout",
     "output_type": "stream",
     "text": [
      "Number of all nodes: 6\r\n",
      "Number of small cave nodes: 5\r\n"
     ]
    }
   ],
   "source": [
    "HashSet<string> allNodes = new HashSet<string>();\n",
    "HashSet<string> smallCaveNodes = new HashSet<string>();\n",
    "Dictionary<string, HashSet<string>> caveConnections = new Dictionary<string, HashSet<string>>();\n",
    "\n",
    "void ParseInput(string txt)\n",
    "{\n",
    "    allNodes.Clear();\n",
    "    smallCaveNodes.Clear();\n",
    "    caveConnections.Clear();\n",
    "    \n",
    "    var lines = txt.Split(new[] { '\\r', '\\n' }, StringSplitOptions.RemoveEmptyEntries);\n",
    "    foreach (var line in lines)\n",
    "    {\n",
    "        var parts = line.Split(new[] { '-' }, StringSplitOptions.RemoveEmptyEntries);\n",
    "        allNodes.Add(parts[0]);\n",
    "        allNodes.Add(parts[1]);\n",
    "        \n",
    "        if (!caveConnections.ContainsKey(parts[0]))\n",
    "            caveConnections[parts[0]] = new HashSet<string>();\n",
    "\n",
    "        caveConnections[parts[0]].Add(parts[1]);\n",
    "\n",
    "        // add the reverse connection\n",
    "        if (!caveConnections.ContainsKey(parts[1]))\n",
    "            caveConnections[parts[1]] = new HashSet<string>();\n",
    "\n",
    "        caveConnections[parts[1]].Add(parts[0]);\n",
    "    }\n",
    "\n",
    "    foreach (var node in allNodes)\n",
    "    {\n",
    "        if (node.ToLowerInvariant() == node)\n",
    "            smallCaveNodes.Add(node);\n",
    "    }\n",
    "}\n",
    "\n",
    "ParseInput(example1);\n",
    "Console.WriteLine(\"Number of all nodes: \" + allNodes.Count);\n",
    "Console.WriteLine(\"Number of small cave nodes: \" + smallCaveNodes.Count);\n",
    "\n"
   ]
  },
  {
   "cell_type": "code",
   "execution_count": null,
   "metadata": {
    "dotnet_interactive": {
     "language": "csharp"
    }
   },
   "outputs": [
    {
     "name": "stdout",
     "output_type": "stream",
     "text": [
      "Path: start -> A -> c -> A -> b -> A -> end\r\n",
      "Path: start -> A -> c -> A -> b -> end\r\n",
      "Path: start -> A -> c -> A -> end\r\n",
      "Path: start -> A -> b -> A -> c -> A -> end\r\n",
      "Path: start -> A -> b -> A -> end\r\n",
      "Path: start -> A -> b -> end\r\n",
      "Path: start -> A -> end\r\n",
      "Path: start -> b -> A -> c -> A -> end\r\n",
      "Path: start -> b -> A -> end\r\n",
      "Path: start -> b -> end\r\n",
      "Number of paths: 10\r\n"
     ]
    }
   ],
   "source": [
    "// calculate all possible paths\n",
    "List<List<string>> CalculateAllPaths(string start, string end)\n",
    "{\n",
    "    var paths = new List<List<string>>();\n",
    "    var path = new List<string>();\n",
    "    path.Add(start);\n",
    "    CalculateAllPaths(start, end, path, paths);\n",
    "    return paths;\n",
    "}\n",
    "\n",
    "// recursive function\n",
    "void CalculateAllPaths(string start, string end, List<string> path, List<List<string>> paths)\n",
    "{\n",
    "    if (start == end)\n",
    "    {\n",
    "        paths.Add(new List<string>(path));\n",
    "        return;\n",
    "    }\n",
    "\n",
    "    foreach (var node in caveConnections[start])\n",
    "    {\n",
    "        // we can touch nodes that are not small, or small nodes we have not yet touched\n",
    "        // avoid infinite loops\n",
    "        if (!smallCaveNodes.Contains(node) || (smallCaveNodes.Contains(node) && !path.Contains(node)))\n",
    "        {\n",
    "            path.Add(node);\n",
    "            CalculateAllPaths(node, end, path, paths);\n",
    "            path.RemoveAt(path.Count - 1);\n",
    "        }\n",
    "    }\n",
    "}\n",
    "\n",
    "var paths = CalculateAllPaths(\"start\", \"end\");\n",
    "\n",
    "// dump all paths\n",
    "foreach (var path in paths)\n",
    "{\n",
    "    Console.WriteLine(\"Path: \" + string.Join(\" -> \", path));\n",
    "}\n",
    "Console.WriteLine(\"Number of paths: \" + paths.Count);\n"
   ]
  },
  {
   "cell_type": "code",
   "execution_count": null,
   "metadata": {
    "dotnet_interactive": {
     "language": "csharp"
    }
   },
   "outputs": [
    {
     "name": "stdout",
     "output_type": "stream",
     "text": [
      "Path: start -> HN -> dc -> end\r\n",
      "Path: start -> HN -> dc -> HN -> end\r\n",
      "Path: start -> HN -> dc -> HN -> kj -> HN -> end\r\n",
      "Path: start -> HN -> dc -> kj -> HN -> end\r\n",
      "Path: start -> HN -> end\r\n",
      "Path: start -> HN -> kj -> HN -> dc -> end\r\n",
      "Path: start -> HN -> kj -> HN -> dc -> HN -> end\r\n",
      "Path: start -> HN -> kj -> HN -> end\r\n",
      "Path: start -> HN -> kj -> dc -> end\r\n",
      "Path: start -> HN -> kj -> dc -> HN -> end\r\n",
      "Path: start -> kj -> HN -> dc -> end\r\n",
      "Path: start -> kj -> HN -> dc -> HN -> end\r\n",
      "Path: start -> kj -> HN -> end\r\n",
      "Path: start -> kj -> dc -> end\r\n",
      "Path: start -> kj -> dc -> HN -> end\r\n",
      "Path: start -> dc -> end\r\n",
      "Path: start -> dc -> HN -> end\r\n",
      "Path: start -> dc -> HN -> kj -> HN -> end\r\n",
      "Path: start -> dc -> kj -> HN -> end\r\n",
      "Number of paths: 19\r\n"
     ]
    }
   ],
   "source": [
    "// Example 2\n",
    "var example2 = @\"dc-end\n",
    "HN-start\n",
    "start-kj\n",
    "dc-start\n",
    "dc-HN\n",
    "LN-dc\n",
    "HN-end\n",
    "kj-sa\n",
    "kj-HN\n",
    "kj-dc\";\n",
    "\n",
    "ParseInput(example2);\n",
    "\n",
    "paths = CalculateAllPaths(\"start\", \"end\");\n",
    "foreach (var path in paths)\n",
    "{\n",
    "    Console.WriteLine(\"Path: \" + string.Join(\" -> \", path));\n",
    "}\n",
    "Console.WriteLine(\"Number of paths: \" + paths.Count);\n"
   ]
  },
  {
   "cell_type": "code",
   "execution_count": null,
   "metadata": {
    "dotnet_interactive": {
     "language": "csharp"
    }
   },
   "outputs": [
    {
     "name": "stdout",
     "output_type": "stream",
     "text": [
      "Number of paths: 226\r\n"
     ]
    }
   ],
   "source": [
    "var example3 = @\"fs-end\n",
    "he-DX\n",
    "fs-he\n",
    "start-DX\n",
    "pj-DX\n",
    "end-zg\n",
    "zg-sl\n",
    "zg-pj\n",
    "pj-he\n",
    "RW-he\n",
    "fs-DX\n",
    "pj-RW\n",
    "zg-RW\n",
    "start-pj\n",
    "he-WI\n",
    "zg-he\n",
    "pj-fs\n",
    "start-RW\";\n",
    "\n",
    "ParseInput(example3);\n",
    "paths = CalculateAllPaths(\"start\", \"end\");\n",
    "Console.WriteLine(\"Number of paths: \" + paths.Count);"
   ]
  },
  {
   "cell_type": "code",
   "execution_count": null,
   "metadata": {
    "dotnet_interactive": {
     "language": "csharp"
    }
   },
   "outputs": [
    {
     "name": "stdout",
     "output_type": "stream",
     "text": [
      "Number of paths: 3450\r\n"
     ]
    }
   ],
   "source": [
    "var input = @\"cz-end\n",
    "cz-WR\n",
    "TD-end\n",
    "TD-cz\n",
    "start-UM\n",
    "end-pz\n",
    "kb-UM\n",
    "mj-UM\n",
    "cz-kb\n",
    "WR-start\n",
    "WR-pz\n",
    "kb-WR\n",
    "TD-kb\n",
    "mj-kb\n",
    "TD-pz\n",
    "UM-pz\n",
    "kb-start\n",
    "pz-mj\n",
    "WX-cz\n",
    "sp-WR\n",
    "mj-WR\";\n",
    "\n",
    "ParseInput(input);\n",
    "paths = CalculateAllPaths(\"start\", \"end\");\n",
    "Console.WriteLine(\"Number of paths: \" + paths.Count);"
   ]
  },
  {
   "cell_type": "markdown",
   "metadata": {},
   "source": [
    "--- Part Two ---\n",
    "After reviewing the available paths, you realize you might have time to visit a single small cave twice. Specifically, big caves can be visited any number of times, a single small cave can be visited at most twice, and the remaining small caves can be visited at most once. However, the caves named start and end can only be visited exactly once each: once you leave the start cave, you may not return to it, and once you reach the end cave, the path must end immediately.\n",
    "\n",
    "Now, the 36 possible paths through the first example above are:\n",
    "\n",
    "start,A,b,A,b,A,c,A,end\n",
    "start,A,b,A,b,A,end\n",
    "start,A,b,A,b,end\n",
    "start,A,b,A,c,A,b,A,end\n",
    "start,A,b,A,c,A,b,end\n",
    "start,A,b,A,c,A,c,A,end\n",
    "start,A,b,A,c,A,end\n",
    "start,A,b,A,end\n",
    "start,A,b,d,b,A,c,A,end\n",
    "start,A,b,d,b,A,end\n",
    "start,A,b,d,b,end\n",
    "start,A,b,end\n",
    "start,A,c,A,b,A,b,A,end\n",
    "start,A,c,A,b,A,b,end\n",
    "start,A,c,A,b,A,c,A,end\n",
    "start,A,c,A,b,A,end\n",
    "start,A,c,A,b,d,b,A,end\n",
    "start,A,c,A,b,d,b,end\n",
    "start,A,c,A,b,end\n",
    "start,A,c,A,c,A,b,A,end\n",
    "start,A,c,A,c,A,b,end\n",
    "start,A,c,A,c,A,end\n",
    "start,A,c,A,end\n",
    "start,A,end\n",
    "start,b,A,b,A,c,A,end\n",
    "start,b,A,b,A,end\n",
    "start,b,A,b,end\n",
    "start,b,A,c,A,b,A,end\n",
    "start,b,A,c,A,b,end\n",
    "start,b,A,c,A,c,A,end\n",
    "start,b,A,c,A,end\n",
    "start,b,A,end\n",
    "start,b,d,b,A,c,A,end\n",
    "start,b,d,b,A,end\n",
    "start,b,d,b,end\n",
    "start,b,end\n",
    "The slightly larger example above now has 103 paths through it, and the even larger example now has 3509 paths through it.\n",
    "\n",
    "Given these new rules, how many paths through this cave system are there?"
   ]
  },
  {
   "cell_type": "code",
   "execution_count": null,
   "metadata": {
    "dotnet_interactive": {
     "language": "csharp"
    }
   },
   "outputs": [
    {
     "name": "stdout",
     "output_type": "stream",
     "text": [
      "Path: start -> A -> c -> A -> b -> A -> end\r\n",
      "Path: start -> A -> c -> A -> b -> end\r\n",
      "Path: start -> A -> c -> A -> end\r\n",
      "Path: start -> A -> b -> A -> c -> A -> end\r\n",
      "Path: start -> A -> b -> A -> end\r\n",
      "Path: start -> A -> b -> end\r\n",
      "Path: start -> A -> end\r\n",
      "Path: start -> b -> A -> c -> A -> end\r\n",
      "Path: start -> b -> A -> end\r\n",
      "Path: start -> b -> end\r\n",
      "Number of paths: 10\r\n"
     ]
    }
   ],
   "source": [
    "// calculate all possible paths\n",
    "List<List<string>> CalculateAllPaths2(string start, string end)\n",
    "{\n",
    "    var paths = new List<List<string>>();\n",
    "    var path = new List<string>();\n",
    "    path.Add(start);\n",
    "    CalculateAllPaths2(start, end, path, paths);\n",
    "    return paths;\n",
    "}\n",
    "\n",
    "// recursive function\n",
    "void CalculateAllPaths2(string start, string end, List<string> path, List<List<string>> paths)\n",
    "{\n",
    "    if (start == end)\n",
    "    {\n",
    "        paths.Add(new List<string>(path));\n",
    "        return;\n",
    "    }\n",
    "\n",
    "\n",
    "    foreach (var node in caveConnections[start])\n",
    "    {\n",
    "        var hasSmallCaveVisitedTwice = smallCaveNodes.Select(n => path.Count(p => p == n)).Any(c => c > 1);\n",
    "\n",
    "        // we can touch nodes that are not small, one small node twice, or small nodes we have not yet touched\n",
    "        var allowed = !smallCaveNodes.Contains(node) || (smallCaveNodes.Contains(node) && !path.Contains(node)) || (smallCaveNodes.Contains(node) && path.Contains(node) && !hasSmallCaveVisitedTwice);\n",
    "\n",
    "        if (allowed)\n",
    "        {\n",
    "            path.Add(node);\n",
    "            CalculateAllPaths(node, end, path, paths);\n",
    "            path.RemoveAt(path.Count - 1);\n",
    "        }\n",
    "    }\n",
    "}\n",
    "\n",
    "ParseInput(example1);\n",
    "paths = CalculateAllPaths2(\"start\", \"end\");\n",
    "\n",
    "// dump all paths\n",
    "foreach (var path in paths)\n",
    "{\n",
    "    Console.WriteLine(\"Path: \" + string.Join(\" -> \", path));\n",
    "}\n",
    "\n",
    "Console.WriteLine(\"Number of paths: \" + paths.Count);"
   ]
  }
 ],
 "metadata": {
  "interpreter": {
   "hash": "6b9ab5b9d219b475c15d5b276bff7bf0cab2413a3d0574a9290f1b75f85507ed"
  },
  "kernelspec": {
   "display_name": ".NET (C#)",
   "language": "C#",
   "name": ".net-csharp"
  },
  "language_info": {
   "file_extension": ".cs",
   "mimetype": "text/x-csharp",
   "name": "C#",
   "pygments_lexer": "csharp",
   "version": "9.0"
  }
 },
 "nbformat": 4,
 "nbformat_minor": 2
}
